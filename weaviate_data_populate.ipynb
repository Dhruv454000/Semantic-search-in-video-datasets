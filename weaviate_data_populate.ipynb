{
 "cells": [
  {
   "cell_type": "code",
   "execution_count": 1,
   "id": "306988b5",
   "metadata": {},
   "outputs": [
    {
     "data": {
      "text/plain": [
       "{'classes': []}"
      ]
     },
     "execution_count": 1,
     "metadata": {},
     "output_type": "execute_result"
    }
   ],
   "source": [
    "import weaviate\n",
    "client = weaviate.Client(\"http://localhost:8080\")\n",
    "client.schema.get()"
   ]
  },
  {
   "cell_type": "code",
   "execution_count": 2,
   "id": "c10f0168",
   "metadata": {},
   "outputs": [
    {
     "name": "stdout",
     "output_type": "stream",
     "text": [
      "Requirement already satisfied: sentence-transformers in /home/dhruv/miniconda3/envs/Semantic-search/lib/python3.11/site-packages (2.2.2)\n",
      "Requirement already satisfied: transformers<5.0.0,>=4.6.0 in /home/dhruv/miniconda3/envs/Semantic-search/lib/python3.11/site-packages (from sentence-transformers) (4.30.2)\n",
      "Requirement already satisfied: tqdm in /home/dhruv/miniconda3/envs/Semantic-search/lib/python3.11/site-packages (from sentence-transformers) (4.65.0)\n",
      "Requirement already satisfied: torch>=1.6.0 in /home/dhruv/miniconda3/envs/Semantic-search/lib/python3.11/site-packages (from sentence-transformers) (2.0.1)\n",
      "Requirement already satisfied: torchvision in /home/dhruv/miniconda3/envs/Semantic-search/lib/python3.11/site-packages (from sentence-transformers) (0.15.2)\n",
      "Requirement already satisfied: numpy in /home/dhruv/miniconda3/envs/Semantic-search/lib/python3.11/site-packages (from sentence-transformers) (1.25.0)\n",
      "Requirement already satisfied: scikit-learn in /home/dhruv/miniconda3/envs/Semantic-search/lib/python3.11/site-packages (from sentence-transformers) (1.2.2)\n",
      "Requirement already satisfied: scipy in /home/dhruv/miniconda3/envs/Semantic-search/lib/python3.11/site-packages (from sentence-transformers) (1.11.0)\n",
      "Requirement already satisfied: nltk in /home/dhruv/miniconda3/envs/Semantic-search/lib/python3.11/site-packages (from sentence-transformers) (3.8.1)\n",
      "Requirement already satisfied: sentencepiece in /home/dhruv/miniconda3/envs/Semantic-search/lib/python3.11/site-packages (from sentence-transformers) (0.1.99)\n",
      "Requirement already satisfied: huggingface-hub>=0.4.0 in /home/dhruv/miniconda3/envs/Semantic-search/lib/python3.11/site-packages (from sentence-transformers) (0.15.1)\n",
      "Requirement already satisfied: filelock in /home/dhruv/miniconda3/envs/Semantic-search/lib/python3.11/site-packages (from huggingface-hub>=0.4.0->sentence-transformers) (3.12.2)\n",
      "Requirement already satisfied: fsspec in /home/dhruv/miniconda3/envs/Semantic-search/lib/python3.11/site-packages (from huggingface-hub>=0.4.0->sentence-transformers) (2023.6.0)\n",
      "Requirement already satisfied: requests in /home/dhruv/miniconda3/envs/Semantic-search/lib/python3.11/site-packages (from huggingface-hub>=0.4.0->sentence-transformers) (2.29.0)\n",
      "Requirement already satisfied: pyyaml>=5.1 in /home/dhruv/miniconda3/envs/Semantic-search/lib/python3.11/site-packages (from huggingface-hub>=0.4.0->sentence-transformers) (6.0)\n",
      "Requirement already satisfied: typing-extensions>=3.7.4.3 in /home/dhruv/miniconda3/envs/Semantic-search/lib/python3.11/site-packages (from huggingface-hub>=0.4.0->sentence-transformers) (4.6.3)\n",
      "Requirement already satisfied: packaging>=20.9 in /home/dhruv/miniconda3/envs/Semantic-search/lib/python3.11/site-packages (from huggingface-hub>=0.4.0->sentence-transformers) (23.0)\n",
      "Requirement already satisfied: sympy in /home/dhruv/miniconda3/envs/Semantic-search/lib/python3.11/site-packages (from torch>=1.6.0->sentence-transformers) (1.12)\n",
      "Requirement already satisfied: networkx in /home/dhruv/miniconda3/envs/Semantic-search/lib/python3.11/site-packages (from torch>=1.6.0->sentence-transformers) (3.1)\n",
      "Requirement already satisfied: jinja2 in /home/dhruv/miniconda3/envs/Semantic-search/lib/python3.11/site-packages (from torch>=1.6.0->sentence-transformers) (3.1.2)\n",
      "Requirement already satisfied: nvidia-cuda-nvrtc-cu11==11.7.99 in /home/dhruv/miniconda3/envs/Semantic-search/lib/python3.11/site-packages (from torch>=1.6.0->sentence-transformers) (11.7.99)\n",
      "Requirement already satisfied: nvidia-cuda-runtime-cu11==11.7.99 in /home/dhruv/miniconda3/envs/Semantic-search/lib/python3.11/site-packages (from torch>=1.6.0->sentence-transformers) (11.7.99)\n",
      "Requirement already satisfied: nvidia-cuda-cupti-cu11==11.7.101 in /home/dhruv/miniconda3/envs/Semantic-search/lib/python3.11/site-packages (from torch>=1.6.0->sentence-transformers) (11.7.101)\n",
      "Requirement already satisfied: nvidia-cudnn-cu11==8.5.0.96 in /home/dhruv/miniconda3/envs/Semantic-search/lib/python3.11/site-packages (from torch>=1.6.0->sentence-transformers) (8.5.0.96)\n",
      "Requirement already satisfied: nvidia-cublas-cu11==11.10.3.66 in /home/dhruv/miniconda3/envs/Semantic-search/lib/python3.11/site-packages (from torch>=1.6.0->sentence-transformers) (11.10.3.66)\n",
      "Requirement already satisfied: nvidia-cufft-cu11==10.9.0.58 in /home/dhruv/miniconda3/envs/Semantic-search/lib/python3.11/site-packages (from torch>=1.6.0->sentence-transformers) (10.9.0.58)\n",
      "Requirement already satisfied: nvidia-curand-cu11==10.2.10.91 in /home/dhruv/miniconda3/envs/Semantic-search/lib/python3.11/site-packages (from torch>=1.6.0->sentence-transformers) (10.2.10.91)\n",
      "Requirement already satisfied: nvidia-cusolver-cu11==11.4.0.1 in /home/dhruv/miniconda3/envs/Semantic-search/lib/python3.11/site-packages (from torch>=1.6.0->sentence-transformers) (11.4.0.1)\n",
      "Requirement already satisfied: nvidia-cusparse-cu11==11.7.4.91 in /home/dhruv/miniconda3/envs/Semantic-search/lib/python3.11/site-packages (from torch>=1.6.0->sentence-transformers) (11.7.4.91)\n",
      "Requirement already satisfied: nvidia-nccl-cu11==2.14.3 in /home/dhruv/miniconda3/envs/Semantic-search/lib/python3.11/site-packages (from torch>=1.6.0->sentence-transformers) (2.14.3)\n",
      "Requirement already satisfied: nvidia-nvtx-cu11==11.7.91 in /home/dhruv/miniconda3/envs/Semantic-search/lib/python3.11/site-packages (from torch>=1.6.0->sentence-transformers) (11.7.91)\n",
      "Requirement already satisfied: triton==2.0.0 in /home/dhruv/miniconda3/envs/Semantic-search/lib/python3.11/site-packages (from torch>=1.6.0->sentence-transformers) (2.0.0)\n",
      "Requirement already satisfied: setuptools in /home/dhruv/miniconda3/envs/Semantic-search/lib/python3.11/site-packages (from nvidia-cublas-cu11==11.10.3.66->torch>=1.6.0->sentence-transformers) (67.8.0)\n",
      "Requirement already satisfied: wheel in /home/dhruv/miniconda3/envs/Semantic-search/lib/python3.11/site-packages (from nvidia-cublas-cu11==11.10.3.66->torch>=1.6.0->sentence-transformers) (0.38.4)\n",
      "Requirement already satisfied: cmake in /home/dhruv/miniconda3/envs/Semantic-search/lib/python3.11/site-packages (from triton==2.0.0->torch>=1.6.0->sentence-transformers) (3.26.4)\n",
      "Requirement already satisfied: lit in /home/dhruv/miniconda3/envs/Semantic-search/lib/python3.11/site-packages (from triton==2.0.0->torch>=1.6.0->sentence-transformers) (16.0.6)\n",
      "Requirement already satisfied: regex!=2019.12.17 in /home/dhruv/miniconda3/envs/Semantic-search/lib/python3.11/site-packages (from transformers<5.0.0,>=4.6.0->sentence-transformers) (2023.6.3)\n",
      "Requirement already satisfied: tokenizers!=0.11.3,<0.14,>=0.11.1 in /home/dhruv/miniconda3/envs/Semantic-search/lib/python3.11/site-packages (from transformers<5.0.0,>=4.6.0->sentence-transformers) (0.13.3)\n",
      "Requirement already satisfied: safetensors>=0.3.1 in /home/dhruv/miniconda3/envs/Semantic-search/lib/python3.11/site-packages (from transformers<5.0.0,>=4.6.0->sentence-transformers) (0.3.1)\n",
      "Requirement already satisfied: click in /home/dhruv/miniconda3/envs/Semantic-search/lib/python3.11/site-packages (from nltk->sentence-transformers) (8.1.3)\n",
      "Requirement already satisfied: joblib in /home/dhruv/miniconda3/envs/Semantic-search/lib/python3.11/site-packages (from nltk->sentence-transformers) (1.2.0)\n",
      "Requirement already satisfied: threadpoolctl>=2.0.0 in /home/dhruv/miniconda3/envs/Semantic-search/lib/python3.11/site-packages (from scikit-learn->sentence-transformers) (3.1.0)\n",
      "Requirement already satisfied: pillow!=8.3.*,>=5.3.0 in /home/dhruv/miniconda3/envs/Semantic-search/lib/python3.11/site-packages (from torchvision->sentence-transformers) (9.4.0)\n",
      "Requirement already satisfied: MarkupSafe>=2.0 in /home/dhruv/miniconda3/envs/Semantic-search/lib/python3.11/site-packages (from jinja2->torch>=1.6.0->sentence-transformers) (2.1.1)\n",
      "Requirement already satisfied: charset-normalizer<4,>=2 in /home/dhruv/miniconda3/envs/Semantic-search/lib/python3.11/site-packages (from requests->huggingface-hub>=0.4.0->sentence-transformers) (2.0.4)\n",
      "Requirement already satisfied: idna<4,>=2.5 in /home/dhruv/miniconda3/envs/Semantic-search/lib/python3.11/site-packages (from requests->huggingface-hub>=0.4.0->sentence-transformers) (3.4)\n",
      "Requirement already satisfied: urllib3<1.27,>=1.21.1 in /home/dhruv/miniconda3/envs/Semantic-search/lib/python3.11/site-packages (from requests->huggingface-hub>=0.4.0->sentence-transformers) (1.26.16)\n",
      "Requirement already satisfied: certifi>=2017.4.17 in /home/dhruv/miniconda3/envs/Semantic-search/lib/python3.11/site-packages (from requests->huggingface-hub>=0.4.0->sentence-transformers) (2023.5.7)\n",
      "Requirement already satisfied: mpmath>=0.19 in /home/dhruv/miniconda3/envs/Semantic-search/lib/python3.11/site-packages (from sympy->torch>=1.6.0->sentence-transformers) (1.3.0)\r\n"
     ]
    }
   ],
   "source": [
    "!pip install -U sentence-transformers\n"
   ]
  },
  {
   "cell_type": "code",
   "execution_count": 3,
   "id": "a944083a",
   "metadata": {},
   "outputs": [],
   "source": [
    "from sentence_transformers import SentenceTransformer\n",
    "\n",
    "model = SentenceTransformer('sentence-transformers/all-MiniLM-L6-v2')\n",
    "\n",
    "def get_embedding(text):\n",
    "    embeddings = model.encode(sentences)\n",
    "    return embeddings\n"
   ]
  },
  {
   "cell_type": "code",
   "execution_count": 14,
   "id": "893d9490",
   "metadata": {},
   "outputs": [],
   "source": [
    "class_obj = {\n",
    "    \"class\": \"Video_text\"\n",
    "}\n",
    "client.schema.create_class(class_obj)"
   ]
  },
  {
   "cell_type": "code",
   "execution_count": 15,
   "id": "d833b189",
   "metadata": {},
   "outputs": [],
   "source": [
    "class_obj1 = {\n",
    "    \"class\": \"Video_text_description\"\n",
    "}\n",
    "client.schema.create_class(class_obj1)"
   ]
  },
  {
   "cell_type": "code",
   "execution_count": 18,
   "id": "bcd10162",
   "metadata": {},
   "outputs": [],
   "source": [
    "class_obj2 = {\n",
    "    \"class\": \"Video_description\"\n",
    "}\n",
    "client.schema.create_class(class_obj2)"
   ]
  },
  {
   "cell_type": "code",
   "execution_count": 19,
   "id": "c442a75b",
   "metadata": {},
   "outputs": [],
   "source": [
    "import os\n",
    "import json\n",
    "input_directory = 'output_data'"
   ]
  },
  {
   "cell_type": "code",
   "execution_count": 20,
   "id": "4c729c54",
   "metadata": {},
   "outputs": [],
   "source": [
    "json_files = [f for f in os.listdir(input_directory) if f.endswith('.json')]\n"
   ]
  },
  {
   "cell_type": "code",
   "execution_count": 21,
   "id": "4bc36d93",
   "metadata": {},
   "outputs": [
    {
     "data": {
      "text/plain": [
       "['2016-02-02_2000_US_KNBC_4_News_at_Noon.v4.json',\n",
       " '2016-02-02_1800_US_HLN_The_Daily_Share.v4.json',\n",
       " '2016-02-02_1500_US_KABC_Good_Morning_America.v4.json',\n",
       " '2016-02-02_2000_US_CNN_Newsroom.v4.json',\n",
       " '2016-02-02_1800_US_CNN_Wolf.v4.json']"
      ]
     },
     "execution_count": 21,
     "metadata": {},
     "output_type": "execute_result"
    }
   ],
   "source": [
    "json_files"
   ]
  },
  {
   "cell_type": "code",
   "execution_count": 34,
   "id": "e9553bc9",
   "metadata": {},
   "outputs": [
    {
     "name": "stdout",
     "output_type": "stream",
     "text": [
      "file done\n",
      "file done\n",
      "file done\n",
      "file done\n",
      "file done\n"
     ]
    }
   ],
   "source": [
    "for file_name in json_files:\n",
    "    input_file = os.path.join(input_directory, file_name)\n",
    "    with open(input_file) as f:\n",
    "        data = json.load(f)  \n",
    "        metadata = data['metadata']['file']\n",
    "        video_id = data['metadata']['text_id'][3:]\n",
    "        with client.batch(batch_size=100) as batch:\n",
    "            \n",
    "            for sent in data['sentences']:\n",
    "                \n",
    "                embedding_video_text = model.encode(sent['sentence'])\n",
    "                properties_text = {\n",
    "                   \"text\": sent['sentence'],\n",
    "                   \"starttime\" : sent['starttime'],\n",
    "                   \"endtime\" : sent['endtime'],\n",
    "                   \"metadata\" : metadata,\n",
    "                   \"video_id\" : video_id\n",
    "                }\n",
    "                \n",
    "                client.batch.add_data_object(\n",
    "                    properties_text,\n",
    "                    \"Video_text\",\n",
    "                    vector = embedding_video_text\n",
    "                )\n",
    "                                \n",
    "                combined_text = \"In the video you can hear: \" + sent['sentence'] + \" In the video you can see: \" + \", \".join([sentence.strip(\" .\") for sentence in sent['frame_data']]) + '.'\n",
    "                embedding_video_text_desc = model.encode(combined_text)\n",
    "                properties_video_text_desc = {\n",
    "                   \"text\": combined_text,\n",
    "                   \"starttime\" : sent['starttime'],\n",
    "                   \"endtime\" : sent['endtime'],\n",
    "                   \"metadata\" : metadata,\n",
    "                   \"video_id\" : video_id\n",
    "                }\n",
    "                client.batch.add_data_object(\n",
    "                    properties_video_text_desc,\n",
    "                    \"Video_text_description\",\n",
    "                     vector = embedding_video_text_desc\n",
    "                )\n",
    "                \n",
    "                video_desc = \", \".join([sentence.strip(\" .\") for sentence in sent['frame_data']]) + '.'\n",
    "                embedding_video_desc = model.encode(video_desc)\n",
    "                properties_video_desc = {\n",
    "                   \"text\": video_desc,\n",
    "                   \"starttime\" : sent['starttime'],\n",
    "                   \"endtime\" : sent['endtime'],\n",
    "                   \"metadata\" : metadata,\n",
    "                   \"video_id\" : video_id\n",
    "                }\n",
    "                client.batch.add_data_object(\n",
    "                    properties_video_desc,\n",
    "                    \"Video_description\",\n",
    "                     vector = embedding_video_desc\n",
    "                )\n",
    "    print(\"file done\")"
   ]
  },
  {
   "cell_type": "code",
   "execution_count": 36,
   "id": "4f1fc4cc",
   "metadata": {},
   "outputs": [
    {
     "data": {
      "text/plain": [
       "{'data': {'Aggregate': {'Video_text_description': [{'meta': {'count': 3057}}]}}}"
      ]
     },
     "execution_count": 36,
     "metadata": {},
     "output_type": "execute_result"
    }
   ],
   "source": [
    "client.query.aggregate(\"Video_text_description\").with_meta_count().do()"
   ]
  },
  {
   "cell_type": "code",
   "execution_count": 37,
   "id": "9845202e",
   "metadata": {},
   "outputs": [
    {
     "name": "stdout",
     "output_type": "stream",
     "text": [
      "{\n",
      "    \"data\": {\n",
      "        \"Get\": {\n",
      "            \"Video_text_description\": [\n",
      "                {\n",
      "                    \"_additional\": {\n",
      "                        \"distance\": 0.11348927\n",
      "                    },\n",
      "                    \"endtime\": \"8.66\",\n",
      "                    \"metadata\": \"/db/tv/2016/2016-02/2016-02-02/2016-02-02_1500_US_KABC_Good_Morning_America.txt\",\n",
      "                    \"starttime\": \"5.96\",\n",
      "                    \"text\": \"In the video you can hear: Ted Cruz scores a huge victory over Donald Trump . In the video you can see: a bunch of people that are talking to each other, a crowd of people taking pictures of a man in a suit, a group of people taking pictures with cell phones.\",\n",
      "                    \"video_id\": \"4b9b3cd8_c9c6_11e5_b5ec_089e01ba0335\"\n",
      "                },\n",
      "                {\n",
      "                    \"_additional\": {\n",
      "                        \"distance\": 0.22137702\n",
      "                    },\n",
      "                    \"endtime\": \"214.87\",\n",
      "                    \"metadata\": \"/db/tv/2016/2016-02/2016-02-02/2016-02-02_1500_US_KABC_Good_Morning_America.txt\",\n",
      "                    \"starttime\": \"0.00\",\n",
      "                    \"text\": \"In the video you can hear: Cruz 's victory was fueled by his appeal to Evangelical Christians . In the video you can see: a group of men standing next to each other on a stage, a person standing in a room with a laptop, a tv screen showing a group of people on a street, a tv screen with a red and white striped background, ted cruz speaking at an event in iowa.\",\n",
      "                    \"video_id\": \"4b9b3cd8_c9c6_11e5_b5ec_089e01ba0335\"\n",
      "                },\n",
      "                {\n",
      "                    \"_additional\": {\n",
      "                        \"distance\": 0.23863351\n",
      "                    },\n",
      "                    \"endtime\": \"913.34\",\n",
      "                    \"metadata\": \"/db/tv/2016/2016-02/2016-02-02/2016-02-02_1500_US_KABC_Good_Morning_America.txt\",\n",
      "                    \"starttime\": \"904.74\",\n",
      "                    \"text\": \"In the video you can hear: Ted Cruz has to show he can win outside of a small caucus state where evangelicals dominated the scene and Marco Rubio has to find his first victory . In the video you can see: a couple of people sitting next to each other, a couple of people sitting next to each other on a news set, a man in a suit and tie on a television set, a man in a suit and tie sitting in front of a camera, a man in a suit is talking on a television, a woman and a man sitting next to each other, three people sitting at a table in front of a tv, two men and a woman sitting in front of a news desk.\",\n",
      "                    \"video_id\": \"4b9b3cd8_c9c6_11e5_b5ec_089e01ba0335\"\n",
      "                },\n",
      "                {\n",
      "                    \"_additional\": {\n",
      "                        \"distance\": 0.23977304\n",
      "                    },\n",
      "                    \"endtime\": \"1068.50\",\n",
      "                    \"metadata\": \"/db/tv/2016/2016-02/2016-02-02/2016-02-02_2000_US_CNN_Newsroom.txt\",\n",
      "                    \"starttime\": \"1067.50\",\n",
      "                    \"text\": \"In the video you can hear: I congratulation them . In the video you can see: ted cruz is interviewed on cnn.\",\n",
      "                    \"video_id\": \"55ac2a8c_c9f0_11e5_9dfe_089e01ba0338\"\n",
      "                },\n",
      "                {\n",
      "                    \"_additional\": {\n",
      "                        \"distance\": 0.24293244\n",
      "                    },\n",
      "                    \"endtime\": \"421.11\",\n",
      "                    \"metadata\": \"/db/tv/2016/2016-02/2016-02-02/2016-02-02_2000_US_KNBC_4_News_at_Noon.txt\",\n",
      "                    \"starttime\": \"415.99\",\n",
      "                    \"text\": \"In the video you can hear: Cruz just wrapped up a rally outlining his plan for the presidency if he is elected . In the video you can see: a man in a suit and red neck tie standing in front of an american flag, a man standing on a stage holding a microphone, a person taking a picture of a person in a suit, ted cruz speaking at a political event in new hampshire.\",\n",
      "                    \"video_id\": \"2f21bfc6_c9f0_11e5_9725_089e01ba0326\"\n",
      "                }\n",
      "            ]\n",
      "        }\n",
      "    }\n",
      "}\n"
     ]
    }
   ],
   "source": [
    "## Vector Similarity Search\n",
    "\n",
    "text_search_input = \"Ted Cruz scores a huge victory\"\n",
    "image_search_input = \"a group of people taking photos\"\n",
    "combined_text = \"In the video you can hear: \" + text_search_input + \"In the video you can see: \" + image_search_input\n",
    "vector = model.encode(combined_text)\n",
    "\n",
    "response = (\n",
    "    client.query\n",
    "    .get(\"Video_text_description\", [\"text\", \"starttime\", \"endtime\", \"metadata\",\"video_id\"])\n",
    "    .with_near_vector({\n",
    "        \"vector\" : vector\n",
    "    })\n",
    "    .with_limit(5)\n",
    "    .with_additional([\"distance\"])\n",
    "    .do()\n",
    ")\n",
    "print(json.dumps(response, indent=4))\n"
   ]
  },
  {
   "cell_type": "code",
   "execution_count": null,
   "id": "30b3911b",
   "metadata": {},
   "outputs": [],
   "source": []
  }
 ],
 "metadata": {
  "kernelspec": {
   "display_name": "Python 3 (ipykernel)",
   "language": "python",
   "name": "python3"
  },
  "language_info": {
   "codemirror_mode": {
    "name": "ipython",
    "version": 3
   },
   "file_extension": ".py",
   "mimetype": "text/x-python",
   "name": "python",
   "nbconvert_exporter": "python",
   "pygments_lexer": "ipython3",
   "version": "3.11.3"
  }
 },
 "nbformat": 4,
 "nbformat_minor": 5
}
